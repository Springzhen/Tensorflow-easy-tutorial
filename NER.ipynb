{
 "cells": [
  {
   "cell_type": "markdown",
   "metadata": {},
   "source": [
    "# NER 快速上手示例"
   ]
  },
  {
   "cell_type": "code",
   "execution_count": 36,
   "metadata": {},
   "outputs": [],
   "source": [
    "# import func\n",
    "import random as rand\n",
    "from random import random\n",
    "import numpy as np\n",
    "import math\n",
    "import tensorflow as tf"
   ]
  },
  {
   "cell_type": "code",
   "execution_count": 2,
   "metadata": {},
   "outputs": [],
   "source": [
    "# Parameters used.\n",
    "MODEL_PATH = 'model/model.ckpt'"
   ]
  },
  {
   "cell_type": "code",
   "execution_count": 3,
   "metadata": {},
   "outputs": [],
   "source": [
    "def get_sequence(sequence_length):\n",
    "    \"\"\"生成一个句子array，每个元素可以看为一个实体(词向量长度为1的实体)\n",
    "    sequence_length: int,输入序列长度\n",
    "    return:\n",
    "        X: list, 根据输入序列随机生成[0,1]之间，长度为序列长度的数据，array([0.4517164 , 0.17458207,...])\n",
    "        y：list, 根据输入序列随机累计结果，长度为序列长度的数据，array([0 , 0,...])\n",
    "    \"\"\"\n",
    "    X = np.array([random() for _ in range(sequence_length)])\n",
    "    limit = sequence_length / 4.0\n",
    "    y = np.array([0 if x < limit else 1 for x in np.cumsum(X)])\n",
    "    return X, y"
   ]
  },
  {
   "cell_type": "code",
   "execution_count": 4,
   "metadata": {},
   "outputs": [
    {
     "data": {
      "text/plain": [
       "(array([0.99977239, 0.58233066, 0.71998191, 0.75649066, 0.2671246 ]),\n",
       " array([0, 1, 1, 1, 1]))"
      ]
     },
     "execution_count": 4,
     "metadata": {},
     "output_type": "execute_result"
    }
   ],
   "source": [
    "# 数据例子\n",
    "get_sequence(5)"
   ]
  },
  {
   "cell_type": "code",
   "execution_count": 5,
   "metadata": {},
   "outputs": [],
   "source": [
    "def get_examples(n):\n",
    "    '''获取长度范围在[5,15]之间的n句，并返回对应的句子序列，标签序列以及句子长度序列\n",
    "    return：\n",
    "        X_list: list,[array(int,int,..),...]\n",
    "        y_list: list,[array(0,1,...),...]\n",
    "        sequence_length_list: list,[int, int, ...]\n",
    "    '''\n",
    "    X_list = []\n",
    "    y_list = []\n",
    "    sequence_length_list = []\n",
    "    for _ in range(n):\n",
    "        sequence_length = rand.randrange(start=5, stop=15)\n",
    "        X, y = get_sequence(sequence_length)\n",
    "        X_list.append(X)\n",
    "        y_list.append(y)\n",
    "        sequence_length_list.append(sequence_length)\n",
    "    \n",
    "    return X_list, y_list, sequence_length_list\n"
   ]
  },
  {
   "cell_type": "code",
   "execution_count": 6,
   "metadata": {},
   "outputs": [
    {
     "name": "stdout",
     "output_type": "stream",
     "text": [
      "[array([0.124389  , 0.27276434, 0.88607881, 0.79260571, 0.50418437,\n",
      "       0.33872385, 0.09518358, 0.9513725 , 0.4368882 , 0.45860467,\n",
      "       0.40931727]), array([0.85111579, 0.88904533, 0.67534032, 0.0208597 , 0.21419562,\n",
      "       0.75828096, 0.39506107, 0.04431259, 0.43886332, 0.31583752,\n",
      "       0.23241244, 0.82299346, 0.25791869]), array([0.56751806, 0.54503079, 0.68218183, 0.88030109, 0.78564019,\n",
      "       0.14985963, 0.28419692, 0.01099985])] [array([0, 0, 0, 0, 0, 1, 1, 1, 1, 1, 1]), array([0, 0, 0, 0, 0, 1, 1, 1, 1, 1, 1, 1, 1]), array([0, 0, 0, 1, 1, 1, 1, 1])] [11, 13, 8]\n"
     ]
    }
   ],
   "source": [
    "# 数据例子\n",
    "X_list, y_list, sequence_length_list = get_examples(3)\n",
    "print(X_list, y_list, sequence_length_list)"
   ]
  },
  {
   "cell_type": "markdown",
   "metadata": {},
   "source": [
    "### tensorflow  dynamic rnn 要求同一批次中句子必须有相同长度，因此必须将同一个batch中data与label 填充为相同长度"
   ]
  },
  {
   "cell_type": "code",
   "execution_count": 7,
   "metadata": {},
   "outputs": [],
   "source": [
    "def pad(sentence, max_length):\n",
    "    '''数据长度填充\n",
    "    '''\n",
    "    pad_len = max_length - len(sentence)\n",
    "    padding = np.zeros(pad_len)\n",
    "    return np.concatenate((sentence, padding))\n",
    "    \n",
    "def batch(data, labels, sequence_lengths, batch_size, input_size):\n",
    "    '''生成模型批数据\n",
    "        data：输入数据，list(array(float，float,...),array(float,float,...)),句子序列\n",
    "        labels：标签序列，list(array(int，int,...),array(int,int,...)),句子序列 int取值为0或1，可以将其理解为ner序列标签\n",
    "        sequence_lengths：list,[int, int, ...]，每个句子长度序列\n",
    "        batch_size：int,批大小\n",
    "        input_size：1，词向量长度\n",
    "    '''\n",
    "    n_batch = int(math.ceil(len(data) / batch_size)) #math.ceil 向上取整，将整个数据集切分成n_batch\n",
    "    index = 0\n",
    "    for _ in range(n_batch):\n",
    "        batch_sequence_lengths = np.array(sequence_lengths[index: index + batch_size])\n",
    "        batch_length = np.array(max(batch_sequence_lengths)) # 批次最长长度\n",
    "        batch_data = np.array([pad(x, batch_length) for x in data[index: index + batch_size]]) # 按照batch 中最大句子长度填充句子短句子\n",
    "        batch_labels = np.array([pad(x, batch_length) for x in labels[index: index + batch_size]]) # 按照batch 中最大句子长度填充短句子对应的标签序列\n",
    "        index += batch_size\n",
    "        \n",
    "        # 将数据转换成LSTM 需要传入的数据形式，shape: [batch_size,batch_length,input_size] ，使用dynamic rnn model 故我们只需要保证每批数据序列长度一致即可\n",
    "        # input_size由data 转换为长度为1的list\n",
    "        batch_data = batch_data.reshape(-1, batch_length, input_size)\n",
    "        \n",
    "        yield batch_data, batch_labels, batch_length, batch_sequence_lengths"
   ]
  },
  {
   "cell_type": "code",
   "execution_count": 31,
   "metadata": {},
   "outputs": [],
   "source": [
    "# Generate train and test data.\n",
    "x_train, y_train, sequence_length_train = get_examples(200)\n",
    "x_test, y_test, sequence_length_test = get_examples(50)"
   ]
  },
  {
   "cell_type": "markdown",
   "metadata": {},
   "source": [
    "### 搭建Bi_lstm+CRF 模型"
   ]
  },
  {
   "cell_type": "code",
   "execution_count": 32,
   "metadata": {},
   "outputs": [
    {
     "name": "stderr",
     "output_type": "stream",
     "text": [
      "D:\\Program Files\\Anaconda3\\lib\\site-packages\\tensorflow\\python\\ops\\gradients_impl.py:108: UserWarning: Converting sparse IndexedSlices to a dense Tensor of unknown shape. This may consume a large amount of memory.\n",
      "  \"Converting sparse IndexedSlices to a dense Tensor of unknown shape. \"\n"
     ]
    }
   ],
   "source": [
    "lr = 0.001    #学习率\n",
    "training_epochs = 100 #训练迭代次数\n",
    "input_size = 1 # 输入数据长度，可理解为ner任务中词语词向量长度为 1\n",
    "batch_size = 32 # 批大小\n",
    "num_units = 128 # 隐藏层神经元个数\n",
    "number_of_classes = 2 #类别数\n",
    "\n",
    "#定义placeholder\n",
    "# 序列长度为变化数值，此处设置为任意长度None\n",
    "# shape: [batchsize,sequencelength,input_size]\n",
    "input_data = tf.placeholder(tf.float32, [None, None, input_size], name='input_data')\n",
    "# shape: [batch_size, sequence_length]\n",
    "labels = tf.placeholder(tf.int32, [None, None], name='labels')\n",
    "batch_sequence_length = tf.placeholder(tf.int32)# 每批中最大句子长度：max sequence length\n",
    "original_sequence_lengths = tf.placeholder(tf.int32, [None]) #原始序列长度\n",
    "\n",
    "# 定义lstm cell 命名使用范围,重复运行此段代码必须使用tf.auto_reuse 否则抛出错误\n",
    "with tf.variable_scope('forward',reuse=tf.AUTO_REUSE):\n",
    "    lstm_fw_cell = tf.nn.rnn_cell.LSTMCell(num_units, forget_bias=1.0, state_is_tuple=True)\n",
    "with tf.variable_scope('backward',reuse=tf.AUTO_REUSE):\n",
    "    lstm_bw_cell = tf.nn.rnn_cell.LSTMCell(num_units, forget_bias=1.0, state_is_tuple=True)\n",
    "\n",
    "with tf.variable_scope('bistm', reuse=tf.AUTO_REUSE):\n",
    "    (output_fw, output_bw), states = tf.nn.bidirectional_dynamic_rnn(cell_fw=lstm_fw_cell, \n",
    "                                                                 cell_bw=lstm_bw_cell, \n",
    "                                                                 inputs=input_data,\n",
    "                                                                 sequence_length=original_sequence_lengths, \n",
    "                                                                 dtype=tf.float32)     # 研究下bidirectional_dynamic_rnn 的用法\n",
    "# 拼接双向LSTM 输出结果\n",
    "outputs = tf.concat([output_fw, output_bw], axis=2)\n",
    "outputs_flat = tf.reshape(outputs,[-1,2 * num_units])\n",
    "\n",
    "# 全连接层\n",
    "with tf.variable_scope('W',reuse=tf.AUTO_REUSE):\n",
    "    W = tf.get_variable(name='W', shape=[2 * num_units, number_of_classes], dtype=tf.float32)\n",
    "with tf.variable_scope('b',reuse=tf.AUTO_REUSE):\n",
    "    b = tf.get_variable(name='b', shape=[number_of_classes], dtype=tf.float32, initializer=tf.zeros_initializer())\n",
    "\n",
    "pred = tf.matmul(outputs_flat, W) + b\n",
    "scores = tf.reshape(pred, [-1, batch_sequence_length, number_of_classes])\n",
    "\n",
    "# Linear-CRF\n",
    "with tf.variable_scope('crf',reuse=tf.AUTO_REUSE):\n",
    "    log_likelihood, transition_params = tf.contrib.crf.crf_log_likelihood(scores, labels, original_sequence_lengths)\n",
    "    loss = tf.reduce_mean(-log_likelihood)\n",
    "\n",
    "# 计算viterb序列以及score用于预测\n",
    "viterb_sequence, viterbi_score = tf.contrib.crf.crf_decode(scores,transition_params,original_sequence_lengths)\n",
    "\n",
    "# 优化器\n",
    "with tf.variable_scope('optimizer',reuse=tf.AUTO_REUSE):\n",
    "    optimizer = tf.train.AdamOptimizer(lr)\n",
    "    train_op = optimizer.minimize(loss)\n",
    "\n",
    "# 保存模型变量\n",
    "saver = tf.train.Saver()"
   ]
  },
  {
   "cell_type": "markdown",
   "metadata": {},
   "source": [
    "### 训练模型过程"
   ]
  },
  {
   "cell_type": "code",
   "execution_count": 33,
   "metadata": {},
   "outputs": [
    {
     "name": "stdout",
     "output_type": "stream",
     "text": [
      "Epoch: 0 Accuracy:47.30%\n",
      "Epoch: 10 Accuracy:87.84%\n",
      "Epoch: 20 Accuracy:91.89%\n",
      "Epoch: 30 Accuracy:95.95%\n",
      "Epoch: 40 Accuracy:97.30%\n",
      "Epoch: 50 Accuracy:97.30%\n",
      "Epoch: 60 Accuracy:97.30%\n",
      "Epoch: 70 Accuracy:98.65%\n",
      "Epoch: 80 Accuracy:100.00%\n",
      "Epoch: 90 Accuracy:100.00%\n"
     ]
    }
   ],
   "source": [
    "\n",
    "with tf.Session() as session:\n",
    "    session.run(tf.global_variables_initializer())\n",
    "    \n",
    "    for i in range(training_epochs):\n",
    "        batchiter = batch(x_train, y_train, sequence_length_train, batch_size, input_size)\n",
    "        for per_batch in batchiter:\n",
    "            batch_data, batch_labels, batch_seq_len, batch_sequence_lengths = per_batch\n",
    "            tf_viterbi_sequence, _ = session.run([viterb_sequence,train_op],\n",
    "                                                 feed_dict={input_data:batch_data,\n",
    "                                                            labels:batch_labels,\n",
    "                                                            batch_sequence_length:batch_seq_len,\n",
    "                                                            original_sequence_lengths:batch_sequence_lengths})\n",
    "        # 显示训练精度\n",
    "        if i % 10 ==0:\n",
    "            # 创建mask 用于遮盖人为填充的数据长度\n",
    "            mask = (np.expand_dims(np.arange(batch_seq_len),axis=0) <\n",
    "                     np.expand_dims(batch_sequence_lengths, axis=1))\n",
    "            total_labels = np.sum(batch_sequence_lengths)\n",
    "            correct_labels= np.sum((batch_labels == tf_viterbi_sequence)*mask)\n",
    "            accuracy = 100.0 * correct_labels/float(total_labels)\n",
    "            print('Epoch: %d' % i, \"Accuracy:%.2f%%\"%accuracy)\n",
    "    \n",
    "    # 保存模型变量\n",
    "    saver.save(session, MODEL_PATH)\n",
    "            \n",
    "\n"
   ]
  },
  {
   "cell_type": "markdown",
   "metadata": {},
   "source": [
    "### 测试模型效果"
   ]
  },
  {
   "cell_type": "code",
   "execution_count": 34,
   "metadata": {},
   "outputs": [
    {
     "name": "stdout",
     "output_type": "stream",
     "text": [
      "INFO:tensorflow:Restoring parameters from model/model.ckpt\n",
      "Test accuracy: 73.20%\n",
      "Label: [0 0 0 0 0 0 1 1 1 1 1 1 0 0]\n",
      "Pred.: [0 0 0 1 1 1 0 0 0 0 0 0 0 0]\n"
     ]
    }
   ],
   "source": [
    "# Test model\n",
    "\n",
    "with tf.Session() as session:\n",
    "    saver.restore(session, MODEL_PATH)\n",
    "    \n",
    "    batchiter = batch(x_test, y_test, sequence_length_train, len(x_test), input_size)\n",
    "    \n",
    "    for per_batch in batchiter:\n",
    "        batch_data, batch_labels, batch_seq_len, batch_sequence_lengths = per_batch\n",
    "        tf_viterbi_sequence, _ = session.run([viterb_sequence,train_op],\n",
    "                                             feed_dict={input_data:batch_data,\n",
    "                                                        labels:batch_labels,\n",
    "                                                        batch_sequence_length:batch_seq_len,\n",
    "                                                        original_sequence_lengths:batch_sequence_lengths})\n",
    "\n",
    "    # 创建mask 用于遮盖人为填充的数据长度\n",
    "    mask = (np.expand_dims(np.arange(batch_seq_len),axis=0) <\n",
    "             np.expand_dims(batch_sequence_lengths, axis=1))\n",
    "    total_labels = np.sum(batch_sequence_lengths)\n",
    "    correct_labels= np.sum((batch_labels == tf_viterbi_sequence)*mask)\n",
    "    accuracy = 100.0 * correct_labels/float(total_labels)\n",
    "    \n",
    "    print(\"Test accuracy: %.2f%%\" % accuracy)\n",
    "\n",
    "    print(\"Label:\", batch_labels[0].astype(int))    \n",
    "    print(\"Pred.:\", tf_viterbi_sequence[0])\n"
   ]
  },
  {
   "cell_type": "code",
   "execution_count": null,
   "metadata": {},
   "outputs": [],
   "source": []
  },
  {
   "cell_type": "code",
   "execution_count": null,
   "metadata": {},
   "outputs": [],
   "source": []
  },
  {
   "cell_type": "code",
   "execution_count": null,
   "metadata": {},
   "outputs": [],
   "source": []
  }
 ],
 "metadata": {
  "kernelspec": {
   "display_name": "Python 3",
   "language": "python",
   "name": "python3"
  },
  "language_info": {
   "codemirror_mode": {
    "name": "ipython",
    "version": 3
   },
   "file_extension": ".py",
   "mimetype": "text/x-python",
   "name": "python",
   "nbconvert_exporter": "python",
   "pygments_lexer": "ipython3",
   "version": "3.6.5"
  }
 },
 "nbformat": 4,
 "nbformat_minor": 2
}
